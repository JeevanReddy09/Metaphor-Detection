{
  "nbformat": 4,
  "nbformat_minor": 0,
  "metadata": {
    "colab": {
      "provenance": []
    },
    "kernelspec": {
      "name": "python3",
      "display_name": "Python 3"
    },
    "language_info": {
      "name": "python"
    }
  },
  "cells": [
    {
      "cell_type": "code",
      "source": [
        "import pandas as pd\n",
        "import nltk\n",
        "from nltk.corpus import stopwords\n",
        "from nltk.tokenize import word_tokenize\n",
        "from sklearn.model_selection import train_test_split, cross_val_score\n",
        "from sklearn.feature_extraction.text import TfidfVectorizer\n",
        "from sklearn.linear_model import LogisticRegression\n",
        "from sklearn.ensemble import RandomForestClassifier\n",
        "from sklearn.svm import SVC\n",
        "from sklearn.naive_bayes import MultinomialNB\n",
        "import torch\n",
        "from torch.utils.data import Dataset, DataLoader\n",
        "from torch import nn, optim\n",
        "import tensorflow as tf\n",
        "from sklearn.preprocessing import LabelEncoder\n",
        "\n",
        "nltk.download('punkt')\n",
        "# Load the dataset\n",
        "df = pd.read_csv('train.csv')\n",
        "\n",
        "# Dictionary linking metaphorID to specific words\n",
        "metaphor_words = {\n",
        "    0: 'road',\n",
        "    1: 'candle',\n",
        "    2: 'light',\n",
        "    3: 'spice',\n",
        "    4: 'ride',\n",
        "    5: 'train',\n",
        "    6: 'boat'\n",
        "}\n",
        "\n",
        "# Function to clean and extract context around the metaphor candidate word\n",
        "def extract_context(text, metaphor_id, window_size=5):\n",
        "    target_word = metaphor_words[metaphor_id]\n",
        "    words = word_tokenize(text)\n",
        "    if target_word in words:\n",
        "        target_index = words.index(target_word)\n",
        "        start = max(0, target_index - window_size)\n",
        "        end = min(len(words), target_index + window_size + 1)\n",
        "        return ' '.join(words[start:end])\n",
        "    else:\n",
        "        return ''\n",
        "\n",
        "# Apply the cleaning and context extraction function\n",
        "df['context'] = df.apply(lambda row: extract_context(row['text'], row['metaphorID']), axis=1)\n",
        "\n",
        "# Remove rows with empty context\n",
        "df = df[df['context'] != '']\n",
        "\n",
        "# Feature extraction using TF-IDF\n",
        "tfidf_vectorizer = TfidfVectorizer(max_features=5000, stop_words='english')\n",
        "X = tfidf_vectorizer.fit_transform(df['context']).toarray()\n",
        "y = df['label_boolean'].values\n",
        "\n",
        "# Splitting the dataset\n",
        "X_train, X_test, y_train, y_test = train_test_split(X, y, test_size=0.2, random_state=42)\n",
        "\n",
        "# Define the models\n",
        "models = {\n",
        "    \"Logistic Regression\": LogisticRegression(),\n",
        "    \"Random Forest\": RandomForestClassifier(),\n",
        "    \"SVM\": SVC(),\n",
        "    \"Naive Bayes\": MultinomialNB()\n",
        "}\n",
        "\n",
        "# Dictionary to store average accuracies\n",
        "average_accuracies = {}\n",
        "\n",
        "# Perform cross-validation and compare models\n",
        "k = 5  # Number of folds\n",
        "for name, model in models.items():\n",
        "    cv_scores = cross_val_score(model, X_train, y_train, cv=k, scoring='accuracy')\n",
        "    average_accuracy = cv_scores.mean()\n",
        "    average_accuracies[name] = average_accuracy\n",
        "    print(f\"{name} - Cross-Validation Scores for {k} folds: {cv_scores}\")\n",
        "    print(f\"{name} - Average Accuracy: {average_accuracy}\")\n",
        "\n"
      ],
      "metadata": {
        "colab": {
          "base_uri": "https://localhost:8080/"
        },
        "id": "NMxeoSEIztyV",
        "outputId": "b92a8680-ba7e-407b-96d7-54c48cef7f71"
      },
      "execution_count": 4,
      "outputs": [
        {
          "output_type": "stream",
          "name": "stderr",
          "text": [
            "[nltk_data] Downloading package punkt to /root/nltk_data...\n",
            "[nltk_data]   Unzipping tokenizers/punkt.zip.\n"
          ]
        },
        {
          "output_type": "stream",
          "name": "stdout",
          "text": [
            "Logistic Regression - Cross-Validation Scores for 5 folds: [0.84615385 0.83516484 0.83516484 0.83150183 0.83455882]\n",
            "Logistic Regression - Average Accuracy: 0.836508834302952\n",
            "Random Forest - Cross-Validation Scores for 5 folds: [0.86813187 0.84615385 0.87912088 0.85347985 0.85661765]\n",
            "Random Forest - Average Accuracy: 0.8607008187890541\n",
            "SVM - Cross-Validation Scores for 5 folds: [0.85347985 0.84249084 0.84981685 0.84249084 0.83823529]\n",
            "SVM - Average Accuracy: 0.8453027364792071\n",
            "Naive Bayes - Cross-Validation Scores for 5 folds: [0.83516484 0.83516484 0.82417582 0.83150183 0.83088235]\n",
            "Naive Bayes - Average Accuracy: 0.8313779357897004\n"
          ]
        }
      ]
    },
    {
      "cell_type": "code",
      "source": [
        "\n",
        "# PyTorch Dataset\n",
        "class MetaphorDataset(Dataset):\n",
        "    def __init__(self, features, labels):\n",
        "        self.features = features\n",
        "        self.labels = labels\n",
        "\n",
        "    def __len__(self):\n",
        "        return len(self.features)\n",
        "\n",
        "    def __getitem__(self, idx):\n",
        "        return torch.tensor(self.features[idx], dtype=torch.float32), torch.tensor(self.labels[idx], dtype=torch.long)\n",
        "\n",
        "train_dataset = MetaphorDataset(X_train, y_train)\n",
        "test_dataset = MetaphorDataset(X_test, y_test)\n",
        "\n",
        "# DataLoader\n",
        "train_loader = DataLoader(train_dataset, batch_size=1, shuffle=True)  # Batch size set to 1 for stochastic gradient descent\n",
        "test_loader = DataLoader(test_dataset, batch_size=1, shuffle=False)\n",
        "\n",
        "# Neural Network Model\n",
        "class MetaphorNN(nn.Module):\n",
        "    def __init__(self, input_size):\n",
        "        super(MetaphorNN, self).__init__()\n",
        "        self.fc1 = nn.Linear(input_size, 128)\n",
        "        self.relu = nn.ReLU()\n",
        "        self.fc2 = nn.Linear(128, 64)\n",
        "        self.fc3 = nn.Linear(64, 2)  # 2 for binary classification\n",
        "\n",
        "    def forward(self, x):\n",
        "        x = self.fc1(x)\n",
        "        x = self.relu(x)\n",
        "        x = self.fc2(x)\n",
        "        x = self.relu(x)\n",
        "        x = self.fc3(x)\n",
        "        return x\n",
        "\n",
        "# Model, Loss, Optimizer\n",
        "model = MetaphorNN(input_size=X_train.shape[1])\n",
        "criterion = nn.CrossEntropyLoss()\n",
        "optimizer = optim.SGD(model.parameters(), lr=0.01)\n",
        "\n",
        "# Training Loop\n",
        "for epoch in range(10):  # number of epochs\n",
        "    for inputs, labels in train_loader:\n",
        "        optimizer.zero_grad()\n",
        "        outputs = model(inputs)\n",
        "        loss = criterion(outputs, labels)\n",
        "        loss.backward()\n",
        "        optimizer.step()\n",
        "    print(f\"Epoch {epoch+1}, Loss: {loss.item()}\")\n",
        "\n",
        "# Evaluation\n",
        "def evaluate_model(model, test_loader):\n",
        "    model.eval()\n",
        "    correct = 0\n",
        "    total = 0\n",
        "    with torch.no_grad():\n",
        "        for inputs, labels in test_loader:\n",
        "            outputs = model(inputs)\n",
        "            _, predicted = torch.max(outputs.data, 1)\n",
        "            total += labels.size(0)\n",
        "            correct += (predicted == labels).sum().item()\n",
        "    return correct / total\n",
        "\n",
        "accuracy_nn = evaluate_model(model, test_loader)\n",
        "print(f\"Accuracy: {accuracy_nn}\")\n"
      ],
      "metadata": {
        "colab": {
          "base_uri": "https://localhost:8080/"
        },
        "id": "lifVgp2HszZO",
        "outputId": "34e4f5b6-e312-4f55-90c8-6be4a73f1d3e"
      },
      "execution_count": 5,
      "outputs": [
        {
          "output_type": "stream",
          "name": "stderr",
          "text": [
            "<ipython-input-5-248a64bd33bd>:11: DeprecationWarning: In future, it will be an error for 'np.bool_' scalars to be interpreted as an index\n",
            "  return torch.tensor(self.features[idx], dtype=torch.float32), torch.tensor(self.labels[idx], dtype=torch.long)\n"
          ]
        },
        {
          "output_type": "stream",
          "name": "stdout",
          "text": [
            "Epoch 1, Loss: 0.17913083732128143\n",
            "Epoch 2, Loss: 1.8064749240875244\n",
            "Epoch 3, Loss: 1.8230869770050049\n",
            "Epoch 4, Loss: 0.19372554123401642\n",
            "Epoch 5, Loss: 0.2662990093231201\n",
            "Epoch 6, Loss: 0.25081369280815125\n",
            "Epoch 7, Loss: 0.35161635279655457\n",
            "Epoch 8, Loss: 0.6361056566238403\n",
            "Epoch 9, Loss: 0.004015123005956411\n",
            "Epoch 10, Loss: 0.0050664134323596954\n",
            "Accuracy: 0.8654970760233918\n"
          ]
        }
      ]
    },
    {
      "cell_type": "code",
      "source": [
        "# Add the PyTorch model accuracy to the dictionary\n",
        "average_accuracies['PyTorch Neural Network'] = accuracy_nn\n",
        "\n",
        "import matplotlib.pyplot as plt\n",
        "\n",
        "# Update model names and accuracies\n",
        "model_names = list(average_accuracies.keys())\n",
        "accuracies = list(average_accuracies.values())\n",
        "\n",
        "# Creating the bar chart\n",
        "plt.figure(figsize=(12, 7))  # Adjusted for additional model\n",
        "plt.bar(model_names, accuracies, color='skyblue')\n",
        "\n",
        "# Adding title and labels\n",
        "plt.title('Comparison of Model Accuracies')\n",
        "plt.xlabel('Models')\n",
        "plt.ylabel('Average Accuracy')\n",
        "\n",
        "# Adding the accuracy values on top of the bars\n",
        "for i in range(len(model_names)):\n",
        "    plt.text(i, accuracies[i], round(accuracies[i], 2), ha='center')\n",
        "\n",
        "# Display the plot\n",
        "plt.show()\n"
      ],
      "metadata": {
        "colab": {
          "base_uri": "https://localhost:8080/",
          "height": 641
        },
        "id": "D7jV0WVw0SdQ",
        "outputId": "a93e0477-60a7-46b2-c955-8986c6cd5274"
      },
      "execution_count": 6,
      "outputs": [
        {
          "output_type": "display_data",
          "data": {
            "text/plain": [
              "<Figure size 1200x700 with 1 Axes>"
            ],
            "image/png": "[encoded data removed]"
          },
          "metadata": {}
        }
      ]
    }
  ]
}